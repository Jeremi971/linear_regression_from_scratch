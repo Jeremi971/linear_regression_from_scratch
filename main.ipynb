{
  "cells": [
    {
      "cell_type": "code",
      "execution_count": 1,
      "metadata": {
        "id": "L64mESmNPMhF"
      },
      "outputs": [],
      "source": [
        "import pandas as pd\n",
        "import numpy as np\n",
        "import math\n",
        "from sklearn.utils import shuffle\n",
        "import matplotlib.pyplot as plt\n"
      ]
    },
    {
      "cell_type": "markdown",
      "metadata": {
        "id": "xDOdUv4mO1_6"
      },
      "source": [
        "Problème : Prédiction du prix d'une maison\n",
        "\n",
        "Supposons que vous ayez un ensemble de données sur les prix des maisons en fonction de leur superficie. Voici quelques données fictives pour illustrer le problème :"
      ]
    },
    {
      "cell_type": "code",
      "execution_count": 2,
      "metadata": {
        "id": "DR5oHxxdO1C8"
      },
      "outputs": [],
      "source": [
        "df = pd.read_csv('data/mini_dataset_prix_maison.csv')"
      ]
    },
    {
      "cell_type": "code",
      "execution_count": 3,
      "metadata": {
        "colab": {
          "base_uri": "https://localhost:8080/",
          "height": 206
        },
        "id": "DY6sgRdmQRaw",
        "outputId": "c7e998fe-bb5f-4c83-c30d-7f0b948ce384"
      },
      "outputs": [
        {
          "data": {
            "text/html": [
              "<div>\n",
              "<style scoped>\n",
              "    .dataframe tbody tr th:only-of-type {\n",
              "        vertical-align: middle;\n",
              "    }\n",
              "\n",
              "    .dataframe tbody tr th {\n",
              "        vertical-align: top;\n",
              "    }\n",
              "\n",
              "    .dataframe thead th {\n",
              "        text-align: right;\n",
              "    }\n",
              "</style>\n",
              "<table border=\"1\" class=\"dataframe\">\n",
              "  <thead>\n",
              "    <tr style=\"text-align: right;\">\n",
              "      <th></th>\n",
              "      <th>Superficie</th>\n",
              "      <th>Prix</th>\n",
              "    </tr>\n",
              "  </thead>\n",
              "  <tbody>\n",
              "    <tr>\n",
              "      <th>0</th>\n",
              "      <td>70</td>\n",
              "      <td>300</td>\n",
              "    </tr>\n",
              "    <tr>\n",
              "      <th>1</th>\n",
              "      <td>85</td>\n",
              "      <td>400</td>\n",
              "    </tr>\n",
              "    <tr>\n",
              "      <th>2</th>\n",
              "      <td>100</td>\n",
              "      <td>450</td>\n",
              "    </tr>\n",
              "    <tr>\n",
              "      <th>3</th>\n",
              "      <td>120</td>\n",
              "      <td>500</td>\n",
              "    </tr>\n",
              "    <tr>\n",
              "      <th>4</th>\n",
              "      <td>150</td>\n",
              "      <td>600</td>\n",
              "    </tr>\n",
              "  </tbody>\n",
              "</table>\n",
              "</div>"
            ],
            "text/plain": [
              "   Superficie  Prix\n",
              "0          70   300\n",
              "1          85   400\n",
              "2         100   450\n",
              "3         120   500\n",
              "4         150   600"
            ]
          },
          "execution_count": 3,
          "metadata": {},
          "output_type": "execute_result"
        }
      ],
      "source": [
        "df"
      ]
    },
    {
      "cell_type": "markdown",
      "metadata": {
        "id": "rG5sCFcBPiIs"
      },
      "source": [
        "# Tâche :\n",
        "\n",
        "Utilisez la méthode des moindres carrés pour trouver l'équation de la droite de régression linéaire qui modélise la relation entre la superficie et le prix.\n",
        "Une fois que vous avez l'équation de la droite de régression, utilisez-la pour prédire le prix d'une maison ayant une superficie de 110 m²."
      ]
    },
    {
      "cell_type": "markdown",
      "metadata": {
        "id": "4bHEZmA8lVwz"
      },
      "source": [
        "x : Superficie\n",
        "\n",
        "---\n",
        "\n",
        "\n",
        "y : Prix\n",
        "\n",
        "---\n",
        "\n",
        "\n",
        "moyenne(x) = (1/5)*(70+85+100+120+150) = 105\n",
        "\n",
        "---\n",
        "\n",
        "\n",
        "moyenne(y) = (1/5)*(300+400+450+500+600) = 450\n",
        "\n",
        "---\n",
        "\n",
        "\n",
        "covariance(x,y) = (1/5)*((70-105)*(300-450)+(85-105)*(400-450)+(100-105)*(450-450)+(120-105)*(500-450)+(150-105)*(600-450)) = 2750\n",
        "\n",
        "---\n",
        "\n",
        "\n",
        "variance(x) = (1/5)*(((70-105)²)+((85-105)²)+((100-105)²)+((120-105)²)+((150-105)²)) = 780\n",
        "\n",
        "---\n",
        "\n",
        "\n",
        "variance(y) = (1/5)*((300-450)²+(400-450)²+(450-450)²+(500-450)²+(600-450)²) = 10000\n",
        "\n",
        "---\n",
        "\n",
        "\n",
        "taux de correlation = 2750/√(780+10000) = 0.9846579518042202\n",
        "\n",
        "---\n",
        "\n",
        "\n",
        "On a une forte corrélation de 0.98 proche de 1, cela signifique que nous avons des données linéaire c'est a dire que notre nuage de point formera une droite et que plus la superficie(x) sera élevé plus le prix(x) augmentera.\n",
        "\n",
        "---\n",
        "\n",
        "\n",
        "m = 2750/780 = 3.5256410256410255\n",
        "\n",
        "---\n",
        "\n",
        "\n",
        "b = 450-(2750/780)*105 = 79.80769230769232\n",
        "\n",
        "---\n",
        "\n",
        "\n",
        "y = (2750/780)x+(450-(2750/780)*105)\n"
      ]
    },
    {
      "cell_type": "code",
      "execution_count": 4,
      "metadata": {
        "id": "XUpMm-46zEoK"
      },
      "outputs": [],
      "source": [
        "def calculer_la_prediction(data,name_feature,a,b):\n",
        "  x = data[name_feature]\n",
        "  data['Prédiction'] = a * x + b\n",
        "  y = pd.DataFrame(data['Prédiction'])\n",
        "  return y"
      ]
    },
    {
      "cell_type": "code",
      "execution_count": 5,
      "metadata": {
        "id": "NPhRYGv9zNt4"
      },
      "outputs": [],
      "source": [
        "a = 2750/780\n",
        "b = 450-(2750/780)*105\n",
        "prediction_y = calculer_la_prediction(data=df,name_feature='Superficie',a=a,b=b)"
      ]
    },
    {
      "cell_type": "code",
      "execution_count": 6,
      "metadata": {
        "colab": {
          "base_uri": "https://localhost:8080/"
        },
        "id": "UtSxxI_0sFTX",
        "outputId": "ea32151c-f4a3-49bd-f47a-388f36de27cf"
      },
      "outputs": [
        {
          "data": {
            "text/html": [
              "<div>\n",
              "<style scoped>\n",
              "    .dataframe tbody tr th:only-of-type {\n",
              "        vertical-align: middle;\n",
              "    }\n",
              "\n",
              "    .dataframe tbody tr th {\n",
              "        vertical-align: top;\n",
              "    }\n",
              "\n",
              "    .dataframe thead th {\n",
              "        text-align: right;\n",
              "    }\n",
              "</style>\n",
              "<table border=\"1\" class=\"dataframe\">\n",
              "  <thead>\n",
              "    <tr style=\"text-align: right;\">\n",
              "      <th></th>\n",
              "      <th>Prédiction</th>\n",
              "    </tr>\n",
              "  </thead>\n",
              "  <tbody>\n",
              "    <tr>\n",
              "      <th>0</th>\n",
              "      <td>326.602564</td>\n",
              "    </tr>\n",
              "    <tr>\n",
              "      <th>1</th>\n",
              "      <td>379.487179</td>\n",
              "    </tr>\n",
              "    <tr>\n",
              "      <th>2</th>\n",
              "      <td>432.371795</td>\n",
              "    </tr>\n",
              "    <tr>\n",
              "      <th>3</th>\n",
              "      <td>502.884615</td>\n",
              "    </tr>\n",
              "    <tr>\n",
              "      <th>4</th>\n",
              "      <td>608.653846</td>\n",
              "    </tr>\n",
              "  </tbody>\n",
              "</table>\n",
              "</div>"
            ],
            "text/plain": [
              "   Prédiction\n",
              "0  326.602564\n",
              "1  379.487179\n",
              "2  432.371795\n",
              "3  502.884615\n",
              "4  608.653846"
            ]
          },
          "execution_count": 6,
          "metadata": {},
          "output_type": "execute_result"
        }
      ],
      "source": [
        "prediction_y"
      ]
    },
    {
      "cell_type": "code",
      "execution_count": 7,
      "metadata": {
        "id": "RU89JupNpybZ"
      },
      "outputs": [],
      "source": [
        "def calculer_la_mse(a,b,data,name_feature,name_target):\n",
        "  mse = 0\n",
        "  m = len(data)\n",
        "  for i in range(len(data)):\n",
        "    x = data[name_feature][i]\n",
        "    y = data[name_target][i]\n",
        "    mse += (a*x+b - y)**2\n",
        "  mse = 1/m*2*mse\n",
        "  return mse\n"
      ]
    },
    {
      "cell_type": "code",
      "execution_count": 8,
      "metadata": {
        "id": "Hu_CrSKTExej"
      },
      "outputs": [],
      "source": [
        "mse = calculer_la_mse(a=a,b=b,data=df,name_feature='Superficie',name_target='Prix')"
      ]
    },
    {
      "cell_type": "code",
      "execution_count": 9,
      "metadata": {
        "colab": {
          "base_uri": "https://localhost:8080/"
        },
        "id": "aafU7FqhxEpr",
        "outputId": "3215e5b0-2db5-472b-fc96-57d8aa590736"
      },
      "outputs": [
        {
          "data": {
            "text/plain": [
              "608.9743589743589"
            ]
          },
          "execution_count": 9,
          "metadata": {},
          "output_type": "execute_result"
        }
      ],
      "source": [
        "mse"
      ]
    },
    {
      "cell_type": "code",
      "execution_count": 10,
      "metadata": {
        "id": "li4JQeuyEzzo"
      },
      "outputs": [],
      "source": [
        "rmse = math.sqrt(mse)"
      ]
    },
    {
      "cell_type": "code",
      "execution_count": 11,
      "metadata": {
        "colab": {
          "base_uri": "https://localhost:8080/"
        },
        "id": "E2XOODHPE6J7",
        "outputId": "b5a45edd-93ca-4579-de1a-af6029e22a08"
      },
      "outputs": [
        {
          "data": {
            "text/plain": [
              "24.677405839641228"
            ]
          },
          "execution_count": 11,
          "metadata": {},
          "output_type": "execute_result"
        }
      ],
      "source": [
        "rmse"
      ]
    },
    {
      "cell_type": "code",
      "execution_count": 12,
      "metadata": {},
      "outputs": [],
      "source": [
        "def afficher_le_modele(data, name_feature, name_target, a, b):\n",
        "    x = data[name_feature]\n",
        "    y = data[name_target]\n",
        "    intervalle_x = range(int(x.min()), int(x.max()) + 1)\n",
        "    predictions = [a * val_x + b for val_x in intervalle_x]\n",
        "\n",
        "    plt.scatter(x, y, c='black', label=f\"étude de target {name_target} en fonction de la feature {name_feature}\")\n",
        "    plt.plot(intervalle_x, predictions, c='red', label=\"Modèle\")\n",
        "\n",
        "    plt.xlabel(name_feature)\n",
        "    plt.ylabel(name_target)\n",
        "    plt.legend()\n",
        "    plt.show()"
      ]
    },
    {
      "cell_type": "code",
      "execution_count": 13,
      "metadata": {},
      "outputs": [
        {
          "data": {
            "image/png": "[encoded data removed]",
            "text/plain": [
              "<Figure size 640x480 with 1 Axes>"
            ]
          },
          "metadata": {},
          "output_type": "display_data"
        }
      ],
      "source": [
        "afficher_le_modele(data=df,name_feature='Superficie',name_target='Prix',a=a,b=b)"
      ]
    },
    {
      "cell_type": "code",
      "execution_count": 14,
      "metadata": {
        "colab": {
          "base_uri": "https://localhost:8080/",
          "height": 35
        },
        "id": "vsd9RDt1GYsx",
        "outputId": "4e7c5887-2315-412e-f0ef-b1f720bdba76"
      },
      "outputs": [
        {
          "data": {
            "text/plain": [
              "\"Le prix d'une maison ayant une superficie de 110m² est environ de 467.62820512820514 € . \""
            ]
          },
          "execution_count": 14,
          "metadata": {},
          "output_type": "execute_result"
        }
      ],
      "source": [
        "f'Le prix d\\'une maison ayant une superficie de 110m² est environ de {(2750/780) * 110 +(450-(2750/780) * 105)} € . '"
      ]
    },
    {
      "cell_type": "markdown",
      "metadata": {
        "id": "wQGX8kQrEcTQ"
      },
      "source": [
        "Maintenant, je vais entreprendre une régression linéaire en utilisant une méthode classique en science des données, à savoir la descente de gradient."
      ]
    },
    {
      "cell_type": "code",
      "execution_count": 15,
      "metadata": {
        "id": "unzd_rHBa45L"
      },
      "outputs": [],
      "source": [
        "df_sncf = pd.read_csv(filepath_or_buffer='data/emission-co2-tgv.csv',sep=';')"
      ]
    },
    {
      "cell_type": "code",
      "execution_count": 16,
      "metadata": {
        "colab": {
          "base_uri": "https://localhost:8080/",
          "height": 825
        },
        "id": "cbLEtcsObALE",
        "outputId": "8536cf2b-de8d-4ca4-85f0-c0cfd7a41cd0"
      },
      "outputs": [
        {
          "data": {
            "text/html": [
              "<div>\n",
              "<style scoped>\n",
              "    .dataframe tbody tr th:only-of-type {\n",
              "        vertical-align: middle;\n",
              "    }\n",
              "\n",
              "    .dataframe tbody tr th {\n",
              "        vertical-align: top;\n",
              "    }\n",
              "\n",
              "    .dataframe thead th {\n",
              "        text-align: right;\n",
              "    }\n",
              "</style>\n",
              "<table border=\"1\" class=\"dataframe\">\n",
              "  <thead>\n",
              "    <tr style=\"text-align: right;\">\n",
              "      <th></th>\n",
              "      <th>Type de trajet</th>\n",
              "      <th>Origine</th>\n",
              "      <th>Origine_uic</th>\n",
              "      <th>Destination</th>\n",
              "      <th>Destination_uic</th>\n",
              "      <th>Liaison</th>\n",
              "      <th>Distance (km)</th>\n",
              "      <th>TGV (1 pers.) - Empreinte CO2e (kgCO2e/voyageur)</th>\n",
              "      <th>TGV (3 pers.) - Empreinte CO2e (kgCO2e/voyageur)</th>\n",
              "      <th>Voiture (autosolisme 1 pers.) - Empreinte CO2e (kgCO2e/voyageur)</th>\n",
              "      <th>Voiture (covoiturage 3 pers.) - Empreinte CO2e (kgCO2e/voyageur)</th>\n",
              "    </tr>\n",
              "  </thead>\n",
              "  <tbody>\n",
              "    <tr>\n",
              "      <th>0</th>\n",
              "      <td>Province/Province</td>\n",
              "      <td>Bordeaux Saint-Jean</td>\n",
              "      <td>87581009</td>\n",
              "      <td>Champagne-Ardenne TGV</td>\n",
              "      <td>87171926</td>\n",
              "      <td>Bordeaux Saint-Jean - Champagne-Ardenne TGV</td>\n",
              "      <td>700.061</td>\n",
              "      <td>1.897165</td>\n",
              "      <td>5.691496</td>\n",
              "      <td>135.111773</td>\n",
              "      <td>45.037258</td>\n",
              "    </tr>\n",
              "    <tr>\n",
              "      <th>1</th>\n",
              "      <td>Province/Province</td>\n",
              "      <td>Bordeaux Saint-Jean</td>\n",
              "      <td>87581009</td>\n",
              "      <td>Lorraine TGV</td>\n",
              "      <td>87142109</td>\n",
              "      <td>Bordeaux Saint-Jean - Lorraine TGV</td>\n",
              "      <td>867.618</td>\n",
              "      <td>2.351245</td>\n",
              "      <td>7.053734</td>\n",
              "      <td>167.450274</td>\n",
              "      <td>55.816758</td>\n",
              "    </tr>\n",
              "    <tr>\n",
              "      <th>2</th>\n",
              "      <td>Province/Province</td>\n",
              "      <td>Nantes</td>\n",
              "      <td>87481002</td>\n",
              "      <td>Brest</td>\n",
              "      <td>87474007</td>\n",
              "      <td>Nantes - Brest</td>\n",
              "      <td>593.333</td>\n",
              "      <td>1.607932</td>\n",
              "      <td>4.823797</td>\n",
              "      <td>76.912623</td>\n",
              "      <td>25.637541</td>\n",
              "    </tr>\n",
              "    <tr>\n",
              "      <th>3</th>\n",
              "      <td>Province/Province</td>\n",
              "      <td>Nantes</td>\n",
              "      <td>87481002</td>\n",
              "      <td>Toulouse Matabiau</td>\n",
              "      <td>87611004</td>\n",
              "      <td>Nantes - Toulouse Matabiau</td>\n",
              "      <td>782.081</td>\n",
              "      <td>2.119440</td>\n",
              "      <td>6.358319</td>\n",
              "      <td>150.941633</td>\n",
              "      <td>50.313878</td>\n",
              "    </tr>\n",
              "    <tr>\n",
              "      <th>4</th>\n",
              "      <td>Paris/Province</td>\n",
              "      <td>Paris Gare de Lyon</td>\n",
              "      <td>87686006</td>\n",
              "      <td>Avignon TGV</td>\n",
              "      <td>87318964</td>\n",
              "      <td>Paris Gare de Lyon - Avignon TGV</td>\n",
              "      <td>661.020</td>\n",
              "      <td>1.791364</td>\n",
              "      <td>5.374093</td>\n",
              "      <td>127.576860</td>\n",
              "      <td>42.525620</td>\n",
              "    </tr>\n",
              "    <tr>\n",
              "      <th>...</th>\n",
              "      <td>...</td>\n",
              "      <td>...</td>\n",
              "      <td>...</td>\n",
              "      <td>...</td>\n",
              "      <td>...</td>\n",
              "      <td>...</td>\n",
              "      <td>...</td>\n",
              "      <td>...</td>\n",
              "      <td>...</td>\n",
              "      <td>...</td>\n",
              "      <td>...</td>\n",
              "    </tr>\n",
              "    <tr>\n",
              "      <th>106</th>\n",
              "      <td>Paris/Province</td>\n",
              "      <td>Paris Gare de Lyon</td>\n",
              "      <td>87686006</td>\n",
              "      <td>Nice</td>\n",
              "      <td>87756056</td>\n",
              "      <td>Paris Gare de Lyon - Nice</td>\n",
              "      <td>971.680</td>\n",
              "      <td>2.633253</td>\n",
              "      <td>7.899758</td>\n",
              "      <td>187.534240</td>\n",
              "      <td>62.511413</td>\n",
              "    </tr>\n",
              "    <tr>\n",
              "      <th>107</th>\n",
              "      <td>Paris/Province</td>\n",
              "      <td>Paris Montparnasse</td>\n",
              "      <td>87391003</td>\n",
              "      <td>Saint-Malo</td>\n",
              "      <td>87478107</td>\n",
              "      <td>Paris Montparnasse - Saint-Malo</td>\n",
              "      <td>444.830</td>\n",
              "      <td>1.205489</td>\n",
              "      <td>3.616468</td>\n",
              "      <td>85.852190</td>\n",
              "      <td>28.617397</td>\n",
              "    </tr>\n",
              "    <tr>\n",
              "      <th>108</th>\n",
              "      <td>Paris/Province</td>\n",
              "      <td>Paris Gare de Lyon</td>\n",
              "      <td>87686006</td>\n",
              "      <td>Valence TGV Rhône-Alpes Sud</td>\n",
              "      <td>87763029</td>\n",
              "      <td>Paris Gare de Lyon - Valence TGV Rhône-Alpes Sud</td>\n",
              "      <td>527.124</td>\n",
              "      <td>1.428506</td>\n",
              "      <td>4.285518</td>\n",
              "      <td>101.734932</td>\n",
              "      <td>33.911644</td>\n",
              "    </tr>\n",
              "    <tr>\n",
              "      <th>109</th>\n",
              "      <td>Province/Province</td>\n",
              "      <td>Strasbourg</td>\n",
              "      <td>87212027</td>\n",
              "      <td>Marne-la-Vallée Chessy</td>\n",
              "      <td>87111849</td>\n",
              "      <td>Strasbourg - Marne-la-Vallée Chessy</td>\n",
              "      <td>428.817</td>\n",
              "      <td>1.162094</td>\n",
              "      <td>3.486282</td>\n",
              "      <td>82.761681</td>\n",
              "      <td>27.587227</td>\n",
              "    </tr>\n",
              "    <tr>\n",
              "      <th>110</th>\n",
              "      <td>Province/Province</td>\n",
              "      <td>Strasbourg</td>\n",
              "      <td>87212027</td>\n",
              "      <td>Nantes</td>\n",
              "      <td>87481002</td>\n",
              "      <td>Strasbourg - Nantes</td>\n",
              "      <td>862.949</td>\n",
              "      <td>2.338592</td>\n",
              "      <td>7.015775</td>\n",
              "      <td>166.549157</td>\n",
              "      <td>55.516386</td>\n",
              "    </tr>\n",
              "  </tbody>\n",
              "</table>\n",
              "<p>111 rows × 11 columns</p>\n",
              "</div>"
            ],
            "text/plain": [
              "        Type de trajet              Origine  Origine_uic  \\\n",
              "0    Province/Province  Bordeaux Saint-Jean     87581009   \n",
              "1    Province/Province  Bordeaux Saint-Jean     87581009   \n",
              "2    Province/Province               Nantes     87481002   \n",
              "3    Province/Province               Nantes     87481002   \n",
              "4       Paris/Province   Paris Gare de Lyon     87686006   \n",
              "..                 ...                  ...          ...   \n",
              "106     Paris/Province   Paris Gare de Lyon     87686006   \n",
              "107     Paris/Province   Paris Montparnasse     87391003   \n",
              "108     Paris/Province   Paris Gare de Lyon     87686006   \n",
              "109  Province/Province           Strasbourg     87212027   \n",
              "110  Province/Province           Strasbourg     87212027   \n",
              "\n",
              "                     Destination  Destination_uic  \\\n",
              "0          Champagne-Ardenne TGV         87171926   \n",
              "1                   Lorraine TGV         87142109   \n",
              "2                          Brest         87474007   \n",
              "3              Toulouse Matabiau         87611004   \n",
              "4                    Avignon TGV         87318964   \n",
              "..                           ...              ...   \n",
              "106                         Nice         87756056   \n",
              "107                   Saint-Malo         87478107   \n",
              "108  Valence TGV Rhône-Alpes Sud         87763029   \n",
              "109       Marne-la-Vallée Chessy         87111849   \n",
              "110                       Nantes         87481002   \n",
              "\n",
              "                                              Liaison  Distance (km)  \\\n",
              "0         Bordeaux Saint-Jean - Champagne-Ardenne TGV        700.061   \n",
              "1                  Bordeaux Saint-Jean - Lorraine TGV        867.618   \n",
              "2                                      Nantes - Brest        593.333   \n",
              "3                          Nantes - Toulouse Matabiau        782.081   \n",
              "4                    Paris Gare de Lyon - Avignon TGV        661.020   \n",
              "..                                                ...            ...   \n",
              "106                         Paris Gare de Lyon - Nice        971.680   \n",
              "107                   Paris Montparnasse - Saint-Malo        444.830   \n",
              "108  Paris Gare de Lyon - Valence TGV Rhône-Alpes Sud        527.124   \n",
              "109               Strasbourg - Marne-la-Vallée Chessy        428.817   \n",
              "110                               Strasbourg - Nantes        862.949   \n",
              "\n",
              "     TGV (1 pers.) - Empreinte CO2e (kgCO2e/voyageur)  \\\n",
              "0                                            1.897165   \n",
              "1                                            2.351245   \n",
              "2                                            1.607932   \n",
              "3                                            2.119440   \n",
              "4                                            1.791364   \n",
              "..                                                ...   \n",
              "106                                          2.633253   \n",
              "107                                          1.205489   \n",
              "108                                          1.428506   \n",
              "109                                          1.162094   \n",
              "110                                          2.338592   \n",
              "\n",
              "     TGV (3 pers.) - Empreinte CO2e (kgCO2e/voyageur)  \\\n",
              "0                                            5.691496   \n",
              "1                                            7.053734   \n",
              "2                                            4.823797   \n",
              "3                                            6.358319   \n",
              "4                                            5.374093   \n",
              "..                                                ...   \n",
              "106                                          7.899758   \n",
              "107                                          3.616468   \n",
              "108                                          4.285518   \n",
              "109                                          3.486282   \n",
              "110                                          7.015775   \n",
              "\n",
              "     Voiture (autosolisme 1 pers.) - Empreinte CO2e (kgCO2e/voyageur)  \\\n",
              "0                                           135.111773                  \n",
              "1                                           167.450274                  \n",
              "2                                            76.912623                  \n",
              "3                                           150.941633                  \n",
              "4                                           127.576860                  \n",
              "..                                                 ...                  \n",
              "106                                         187.534240                  \n",
              "107                                          85.852190                  \n",
              "108                                         101.734932                  \n",
              "109                                          82.761681                  \n",
              "110                                         166.549157                  \n",
              "\n",
              "     Voiture (covoiturage 3 pers.) - Empreinte CO2e (kgCO2e/voyageur)  \n",
              "0                                            45.037258                 \n",
              "1                                            55.816758                 \n",
              "2                                            25.637541                 \n",
              "3                                            50.313878                 \n",
              "4                                            42.525620                 \n",
              "..                                                 ...                 \n",
              "106                                          62.511413                 \n",
              "107                                          28.617397                 \n",
              "108                                          33.911644                 \n",
              "109                                          27.587227                 \n",
              "110                                          55.516386                 \n",
              "\n",
              "[111 rows x 11 columns]"
            ]
          },
          "execution_count": 16,
          "metadata": {},
          "output_type": "execute_result"
        }
      ],
      "source": [
        "df_sncf"
      ]
    },
    {
      "cell_type": "code",
      "execution_count": 17,
      "metadata": {
        "id": "crDllDXsbZLn"
      },
      "outputs": [],
      "source": [
        "df_sncf = df_sncf[['Distance (km)','TGV (1 pers.) - Empreinte CO2e (kgCO2e/voyageur)']]"
      ]
    },
    {
      "cell_type": "code",
      "execution_count": 18,
      "metadata": {
        "colab": {
          "base_uri": "https://localhost:8080/",
          "height": 112
        },
        "id": "AD9pZxYEchoZ",
        "outputId": "9a6357f1-11bf-4fae-9653-0b9c43cc3db7"
      },
      "outputs": [
        {
          "data": {
            "text/html": [
              "<div>\n",
              "<style scoped>\n",
              "    .dataframe tbody tr th:only-of-type {\n",
              "        vertical-align: middle;\n",
              "    }\n",
              "\n",
              "    .dataframe tbody tr th {\n",
              "        vertical-align: top;\n",
              "    }\n",
              "\n",
              "    .dataframe thead th {\n",
              "        text-align: right;\n",
              "    }\n",
              "</style>\n",
              "<table border=\"1\" class=\"dataframe\">\n",
              "  <thead>\n",
              "    <tr style=\"text-align: right;\">\n",
              "      <th></th>\n",
              "      <th>Distance (km)</th>\n",
              "      <th>TGV (1 pers.) - Empreinte CO2e (kgCO2e/voyageur)</th>\n",
              "    </tr>\n",
              "  </thead>\n",
              "  <tbody>\n",
              "    <tr>\n",
              "      <th>Distance (km)</th>\n",
              "      <td>1.0</td>\n",
              "      <td>1.0</td>\n",
              "    </tr>\n",
              "    <tr>\n",
              "      <th>TGV (1 pers.) - Empreinte CO2e (kgCO2e/voyageur)</th>\n",
              "      <td>1.0</td>\n",
              "      <td>1.0</td>\n",
              "    </tr>\n",
              "  </tbody>\n",
              "</table>\n",
              "</div>"
            ],
            "text/plain": [
              "                                                  Distance (km)  \\\n",
              "Distance (km)                                               1.0   \n",
              "TGV (1 pers.) - Empreinte CO2e (kgCO2e/voyageur)            1.0   \n",
              "\n",
              "                                                  TGV (1 pers.) - Empreinte CO2e (kgCO2e/voyageur)  \n",
              "Distance (km)                                                                                  1.0  \n",
              "TGV (1 pers.) - Empreinte CO2e (kgCO2e/voyageur)                                               1.0  "
            ]
          },
          "execution_count": 18,
          "metadata": {},
          "output_type": "execute_result"
        }
      ],
      "source": [
        "df_sncf.corr() #En considérant la corrélation, ce jeu de données semble être idéal pour effectuer une régression linéaire."
      ]
    },
    {
      "cell_type": "code",
      "execution_count": 19,
      "metadata": {
        "colab": {
          "base_uri": "https://localhost:8080/",
          "height": 206
        },
        "id": "Cq0C92KRcYzE",
        "outputId": "7f397289-4a7f-4933-a7a2-5786777a98c9"
      },
      "outputs": [
        {
          "data": {
            "text/html": [
              "<div>\n",
              "<style scoped>\n",
              "    .dataframe tbody tr th:only-of-type {\n",
              "        vertical-align: middle;\n",
              "    }\n",
              "\n",
              "    .dataframe tbody tr th {\n",
              "        vertical-align: top;\n",
              "    }\n",
              "\n",
              "    .dataframe thead th {\n",
              "        text-align: right;\n",
              "    }\n",
              "</style>\n",
              "<table border=\"1\" class=\"dataframe\">\n",
              "  <thead>\n",
              "    <tr style=\"text-align: right;\">\n",
              "      <th></th>\n",
              "      <th>Distance (km)</th>\n",
              "      <th>TGV (1 pers.) - Empreinte CO2e (kgCO2e/voyageur)</th>\n",
              "    </tr>\n",
              "  </thead>\n",
              "  <tbody>\n",
              "    <tr>\n",
              "      <th>0</th>\n",
              "      <td>700.061</td>\n",
              "      <td>1.897165</td>\n",
              "    </tr>\n",
              "    <tr>\n",
              "      <th>1</th>\n",
              "      <td>867.618</td>\n",
              "      <td>2.351245</td>\n",
              "    </tr>\n",
              "    <tr>\n",
              "      <th>2</th>\n",
              "      <td>593.333</td>\n",
              "      <td>1.607932</td>\n",
              "    </tr>\n",
              "    <tr>\n",
              "      <th>3</th>\n",
              "      <td>782.081</td>\n",
              "      <td>2.119440</td>\n",
              "    </tr>\n",
              "    <tr>\n",
              "      <th>4</th>\n",
              "      <td>661.020</td>\n",
              "      <td>1.791364</td>\n",
              "    </tr>\n",
              "  </tbody>\n",
              "</table>\n",
              "</div>"
            ],
            "text/plain": [
              "   Distance (km)  TGV (1 pers.) - Empreinte CO2e (kgCO2e/voyageur)\n",
              "0        700.061                                          1.897165\n",
              "1        867.618                                          2.351245\n",
              "2        593.333                                          1.607932\n",
              "3        782.081                                          2.119440\n",
              "4        661.020                                          1.791364"
            ]
          },
          "execution_count": 19,
          "metadata": {},
          "output_type": "execute_result"
        }
      ],
      "source": [
        "df_sncf.head()"
      ]
    },
    {
      "cell_type": "code",
      "execution_count": 20,
      "metadata": {
        "colab": {
          "base_uri": "https://localhost:8080/"
        },
        "id": "k0X4XDhRdBVb",
        "outputId": "fce5a24b-84b5-4f37-86ce-6b5126a780a2"
      },
      "outputs": [
        {
          "name": "stdout",
          "output_type": "stream",
          "text": [
            "<class 'pandas.core.frame.DataFrame'>\n",
            "RangeIndex: 111 entries, 0 to 110\n",
            "Data columns (total 2 columns):\n",
            " #   Column                                            Non-Null Count  Dtype  \n",
            "---  ------                                            --------------  -----  \n",
            " 0   Distance (km)                                     111 non-null    float64\n",
            " 1   TGV (1 pers.) - Empreinte CO2e (kgCO2e/voyageur)  111 non-null    float64\n",
            "dtypes: float64(2)\n",
            "memory usage: 1.9 KB\n"
          ]
        }
      ],
      "source": [
        "df_sncf.info()"
      ]
    },
    {
      "cell_type": "code",
      "execution_count": 21,
      "metadata": {
        "colab": {
          "base_uri": "https://localhost:8080/",
          "height": 300
        },
        "id": "KPK3s0icdOgN",
        "outputId": "11f2b2d9-c7c4-4bda-b864-357d01c73c5a"
      },
      "outputs": [
        {
          "data": {
            "text/html": [
              "<div>\n",
              "<style scoped>\n",
              "    .dataframe tbody tr th:only-of-type {\n",
              "        vertical-align: middle;\n",
              "    }\n",
              "\n",
              "    .dataframe tbody tr th {\n",
              "        vertical-align: top;\n",
              "    }\n",
              "\n",
              "    .dataframe thead th {\n",
              "        text-align: right;\n",
              "    }\n",
              "</style>\n",
              "<table border=\"1\" class=\"dataframe\">\n",
              "  <thead>\n",
              "    <tr style=\"text-align: right;\">\n",
              "      <th></th>\n",
              "      <th>Distance (km)</th>\n",
              "      <th>TGV (1 pers.) - Empreinte CO2e (kgCO2e/voyageur)</th>\n",
              "    </tr>\n",
              "  </thead>\n",
              "  <tbody>\n",
              "    <tr>\n",
              "      <th>count</th>\n",
              "      <td>111.000000</td>\n",
              "      <td>111.000000</td>\n",
              "    </tr>\n",
              "    <tr>\n",
              "      <th>mean</th>\n",
              "      <td>562.540045</td>\n",
              "      <td>1.524484</td>\n",
              "    </tr>\n",
              "    <tr>\n",
              "      <th>std</th>\n",
              "      <td>231.259746</td>\n",
              "      <td>0.626714</td>\n",
              "    </tr>\n",
              "    <tr>\n",
              "      <th>min</th>\n",
              "      <td>146.156000</td>\n",
              "      <td>0.396083</td>\n",
              "    </tr>\n",
              "    <tr>\n",
              "      <th>25%</th>\n",
              "      <td>398.783500</td>\n",
              "      <td>1.080703</td>\n",
              "    </tr>\n",
              "    <tr>\n",
              "      <th>50%</th>\n",
              "      <td>531.951000</td>\n",
              "      <td>1.441587</td>\n",
              "    </tr>\n",
              "    <tr>\n",
              "      <th>75%</th>\n",
              "      <td>732.779000</td>\n",
              "      <td>1.985831</td>\n",
              "    </tr>\n",
              "    <tr>\n",
              "      <th>max</th>\n",
              "      <td>1349.358000</td>\n",
              "      <td>3.656760</td>\n",
              "    </tr>\n",
              "  </tbody>\n",
              "</table>\n",
              "</div>"
            ],
            "text/plain": [
              "       Distance (km)  TGV (1 pers.) - Empreinte CO2e (kgCO2e/voyageur)\n",
              "count     111.000000                                        111.000000\n",
              "mean      562.540045                                          1.524484\n",
              "std       231.259746                                          0.626714\n",
              "min       146.156000                                          0.396083\n",
              "25%       398.783500                                          1.080703\n",
              "50%       531.951000                                          1.441587\n",
              "75%       732.779000                                          1.985831\n",
              "max      1349.358000                                          3.656760"
            ]
          },
          "execution_count": 21,
          "metadata": {},
          "output_type": "execute_result"
        }
      ],
      "source": [
        "df_sncf.describe()"
      ]
    },
    {
      "cell_type": "code",
      "execution_count": 22,
      "metadata": {
        "id": "Y0D_Pk87gBzj"
      },
      "outputs": [],
      "source": [
        "# Shuffle the DataFrame\n",
        "df_sncf_shuffled = shuffle(df_sncf, random_state=200)\n",
        "\n",
        "# Split the shuffled DataFrame into train and test\n",
        "train = df_sncf_shuffled.sample(frac=0.8, random_state=200)\n",
        "test = df_sncf_shuffled.drop(train.index)\n",
        "\n",
        "# Reset the indices for both train and test DataFrames\n",
        "train = train.reset_index(drop=True)\n",
        "test = test.reset_index(drop=True)\n"
      ]
    },
    {
      "cell_type": "code",
      "execution_count": 23,
      "metadata": {
        "colab": {
          "base_uri": "https://localhost:8080/",
          "height": 423
        },
        "id": "GB9EnABngON0",
        "outputId": "73b02b5c-eca3-4615-c15e-fd70f3777b26"
      },
      "outputs": [
        {
          "data": {
            "text/html": [
              "<div>\n",
              "<style scoped>\n",
              "    .dataframe tbody tr th:only-of-type {\n",
              "        vertical-align: middle;\n",
              "    }\n",
              "\n",
              "    .dataframe tbody tr th {\n",
              "        vertical-align: top;\n",
              "    }\n",
              "\n",
              "    .dataframe thead th {\n",
              "        text-align: right;\n",
              "    }\n",
              "</style>\n",
              "<table border=\"1\" class=\"dataframe\">\n",
              "  <thead>\n",
              "    <tr style=\"text-align: right;\">\n",
              "      <th></th>\n",
              "      <th>Distance (km)</th>\n",
              "      <th>TGV (1 pers.) - Empreinte CO2e (kgCO2e/voyageur)</th>\n",
              "    </tr>\n",
              "  </thead>\n",
              "  <tbody>\n",
              "    <tr>\n",
              "      <th>0</th>\n",
              "      <td>314.090</td>\n",
              "      <td>0.851184</td>\n",
              "    </tr>\n",
              "    <tr>\n",
              "      <th>1</th>\n",
              "      <td>1105.927</td>\n",
              "      <td>2.997062</td>\n",
              "    </tr>\n",
              "    <tr>\n",
              "      <th>2</th>\n",
              "      <td>593.333</td>\n",
              "      <td>1.607932</td>\n",
              "    </tr>\n",
              "    <tr>\n",
              "      <th>3</th>\n",
              "      <td>283.752</td>\n",
              "      <td>0.768968</td>\n",
              "    </tr>\n",
              "    <tr>\n",
              "      <th>4</th>\n",
              "      <td>290.806</td>\n",
              "      <td>0.788084</td>\n",
              "    </tr>\n",
              "    <tr>\n",
              "      <th>...</th>\n",
              "      <td>...</td>\n",
              "      <td>...</td>\n",
              "    </tr>\n",
              "    <tr>\n",
              "      <th>84</th>\n",
              "      <td>609.253</td>\n",
              "      <td>1.651076</td>\n",
              "    </tr>\n",
              "    <tr>\n",
              "      <th>85</th>\n",
              "      <td>595.333</td>\n",
              "      <td>1.613352</td>\n",
              "    </tr>\n",
              "    <tr>\n",
              "      <th>86</th>\n",
              "      <td>525.960</td>\n",
              "      <td>1.425352</td>\n",
              "    </tr>\n",
              "    <tr>\n",
              "      <th>87</th>\n",
              "      <td>867.618</td>\n",
              "      <td>2.351245</td>\n",
              "    </tr>\n",
              "    <tr>\n",
              "      <th>88</th>\n",
              "      <td>734.758</td>\n",
              "      <td>1.991194</td>\n",
              "    </tr>\n",
              "  </tbody>\n",
              "</table>\n",
              "<p>89 rows × 2 columns</p>\n",
              "</div>"
            ],
            "text/plain": [
              "    Distance (km)  TGV (1 pers.) - Empreinte CO2e (kgCO2e/voyageur)\n",
              "0         314.090                                          0.851184\n",
              "1        1105.927                                          2.997062\n",
              "2         593.333                                          1.607932\n",
              "3         283.752                                          0.768968\n",
              "4         290.806                                          0.788084\n",
              "..            ...                                               ...\n",
              "84        609.253                                          1.651076\n",
              "85        595.333                                          1.613352\n",
              "86        525.960                                          1.425352\n",
              "87        867.618                                          2.351245\n",
              "88        734.758                                          1.991194\n",
              "\n",
              "[89 rows x 2 columns]"
            ]
          },
          "execution_count": 23,
          "metadata": {},
          "output_type": "execute_result"
        }
      ],
      "source": [
        "train"
      ]
    },
    {
      "cell_type": "code",
      "execution_count": 24,
      "metadata": {
        "colab": {
          "base_uri": "https://localhost:8080/",
          "height": 739
        },
        "id": "vXhimkVVgQ74",
        "outputId": "803a6b22-bbfd-4573-ad2f-953af085f146"
      },
      "outputs": [
        {
          "data": {
            "text/html": [
              "<div>\n",
              "<style scoped>\n",
              "    .dataframe tbody tr th:only-of-type {\n",
              "        vertical-align: middle;\n",
              "    }\n",
              "\n",
              "    .dataframe tbody tr th {\n",
              "        vertical-align: top;\n",
              "    }\n",
              "\n",
              "    .dataframe thead th {\n",
              "        text-align: right;\n",
              "    }\n",
              "</style>\n",
              "<table border=\"1\" class=\"dataframe\">\n",
              "  <thead>\n",
              "    <tr style=\"text-align: right;\">\n",
              "      <th></th>\n",
              "      <th>Distance (km)</th>\n",
              "      <th>TGV (1 pers.) - Empreinte CO2e (kgCO2e/voyageur)</th>\n",
              "    </tr>\n",
              "  </thead>\n",
              "  <tbody>\n",
              "    <tr>\n",
              "      <th>0</th>\n",
              "      <td>496.010</td>\n",
              "      <td>1.344187</td>\n",
              "    </tr>\n",
              "    <tr>\n",
              "      <th>1</th>\n",
              "      <td>584.182</td>\n",
              "      <td>1.583133</td>\n",
              "    </tr>\n",
              "    <tr>\n",
              "      <th>2</th>\n",
              "      <td>429.496</td>\n",
              "      <td>1.163934</td>\n",
              "    </tr>\n",
              "    <tr>\n",
              "      <th>3</th>\n",
              "      <td>537.130</td>\n",
              "      <td>1.455622</td>\n",
              "    </tr>\n",
              "    <tr>\n",
              "      <th>4</th>\n",
              "      <td>469.429</td>\n",
              "      <td>1.272153</td>\n",
              "    </tr>\n",
              "    <tr>\n",
              "      <th>5</th>\n",
              "      <td>560.633</td>\n",
              "      <td>1.519315</td>\n",
              "    </tr>\n",
              "    <tr>\n",
              "      <th>6</th>\n",
              "      <td>694.440</td>\n",
              "      <td>1.881932</td>\n",
              "    </tr>\n",
              "    <tr>\n",
              "      <th>7</th>\n",
              "      <td>489.554</td>\n",
              "      <td>1.326691</td>\n",
              "    </tr>\n",
              "    <tr>\n",
              "      <th>8</th>\n",
              "      <td>803.684</td>\n",
              "      <td>2.177984</td>\n",
              "    </tr>\n",
              "    <tr>\n",
              "      <th>9</th>\n",
              "      <td>201.678</td>\n",
              "      <td>0.546547</td>\n",
              "    </tr>\n",
              "    <tr>\n",
              "      <th>10</th>\n",
              "      <td>661.020</td>\n",
              "      <td>1.791364</td>\n",
              "    </tr>\n",
              "    <tr>\n",
              "      <th>11</th>\n",
              "      <td>900.334</td>\n",
              "      <td>2.439905</td>\n",
              "    </tr>\n",
              "    <tr>\n",
              "      <th>12</th>\n",
              "      <td>908.650</td>\n",
              "      <td>2.462442</td>\n",
              "    </tr>\n",
              "    <tr>\n",
              "      <th>13</th>\n",
              "      <td>782.081</td>\n",
              "      <td>2.119440</td>\n",
              "    </tr>\n",
              "    <tr>\n",
              "      <th>14</th>\n",
              "      <td>654.794</td>\n",
              "      <td>1.774492</td>\n",
              "    </tr>\n",
              "    <tr>\n",
              "      <th>15</th>\n",
              "      <td>343.568</td>\n",
              "      <td>0.931069</td>\n",
              "    </tr>\n",
              "    <tr>\n",
              "      <th>16</th>\n",
              "      <td>527.124</td>\n",
              "      <td>1.428506</td>\n",
              "    </tr>\n",
              "    <tr>\n",
              "      <th>17</th>\n",
              "      <td>608.338</td>\n",
              "      <td>1.648596</td>\n",
              "    </tr>\n",
              "    <tr>\n",
              "      <th>18</th>\n",
              "      <td>645.356</td>\n",
              "      <td>1.748915</td>\n",
              "    </tr>\n",
              "    <tr>\n",
              "      <th>19</th>\n",
              "      <td>546.908</td>\n",
              "      <td>1.482121</td>\n",
              "    </tr>\n",
              "    <tr>\n",
              "      <th>20</th>\n",
              "      <td>807.174</td>\n",
              "      <td>2.187442</td>\n",
              "    </tr>\n",
              "    <tr>\n",
              "      <th>21</th>\n",
              "      <td>531.951</td>\n",
              "      <td>1.441587</td>\n",
              "    </tr>\n",
              "  </tbody>\n",
              "</table>\n",
              "</div>"
            ],
            "text/plain": [
              "    Distance (km)  TGV (1 pers.) - Empreinte CO2e (kgCO2e/voyageur)\n",
              "0         496.010                                          1.344187\n",
              "1         584.182                                          1.583133\n",
              "2         429.496                                          1.163934\n",
              "3         537.130                                          1.455622\n",
              "4         469.429                                          1.272153\n",
              "5         560.633                                          1.519315\n",
              "6         694.440                                          1.881932\n",
              "7         489.554                                          1.326691\n",
              "8         803.684                                          2.177984\n",
              "9         201.678                                          0.546547\n",
              "10        661.020                                          1.791364\n",
              "11        900.334                                          2.439905\n",
              "12        908.650                                          2.462442\n",
              "13        782.081                                          2.119440\n",
              "14        654.794                                          1.774492\n",
              "15        343.568                                          0.931069\n",
              "16        527.124                                          1.428506\n",
              "17        608.338                                          1.648596\n",
              "18        645.356                                          1.748915\n",
              "19        546.908                                          1.482121\n",
              "20        807.174                                          2.187442\n",
              "21        531.951                                          1.441587"
            ]
          },
          "execution_count": 24,
          "metadata": {},
          "output_type": "execute_result"
        }
      ],
      "source": [
        "test"
      ]
    },
    {
      "cell_type": "code",
      "execution_count": 25,
      "metadata": {
        "id": "o4lXR7uItMrk"
      },
      "outputs": [],
      "source": [
        "def initialiser_les_parametres():\n",
        "  a = 0\n",
        "  b = 0\n",
        "  return a,b"
      ]
    },
    {
      "cell_type": "code",
      "execution_count": 26,
      "metadata": {
        "id": "Qquxu05Uvue5"
      },
      "outputs": [],
      "source": [
        "def calculer_la_prediction(data,name_feature,a,b):\n",
        "  x = data[name_feature]\n",
        "  data['Prédiction'] = a * x + b\n",
        "  y = pd.DataFrame(data['Prédiction'])\n",
        "  return y"
      ]
    },
    {
      "cell_type": "code",
      "execution_count": 27,
      "metadata": {
        "id": "eEup86CiYSPF"
      },
      "outputs": [],
      "source": [
        "def afficher_le_modele(data, name_feature, name_target, a, b):\n",
        "    x = data[name_feature]\n",
        "    y = data[name_target]\n",
        "    intervalle_x = range(int(x.min()), int(x.max()) + 1)\n",
        "    predictions = [a * val_x + b for val_x in intervalle_x]\n",
        "\n",
        "    plt.scatter(x, y, c='black', label=f\"étude de target {name_target} en fonction de la feature {name_feature}\")\n",
        "    plt.plot(intervalle_x, predictions, c='red', label=\"Modèle\")\n",
        "\n",
        "    plt.xlabel(name_feature)\n",
        "    plt.ylabel(name_target)\n",
        "    plt.legend()\n",
        "    plt.show()\n"
      ]
    },
    {
      "cell_type": "code",
      "execution_count": 28,
      "metadata": {
        "id": "gTv6EiAe5Fec"
      },
      "outputs": [],
      "source": [
        "def calculer_la_mse(a,b,data,name_feature,name_target):\n",
        "  mse = 0\n",
        "  m = len(data)\n",
        "  for i in range(len(data)):\n",
        "    x = data[name_feature][i]\n",
        "    y = data[name_target][i]\n",
        "    mse += (a*x+b - y)**2\n",
        "  mse = 1/m*2*mse\n",
        "  return mse\n"
      ]
    },
    {
      "cell_type": "code",
      "execution_count": 29,
      "metadata": {
        "id": "rzCSkeWc4RsG"
      },
      "outputs": [],
      "source": [
        "def calculaler_la_rmse(mse):\n",
        "  rmse = math.sqrt(mse)\n",
        "  return rmse"
      ]
    },
    {
      "cell_type": "code",
      "execution_count": 30,
      "metadata": {
        "id": "6E2PWYWlD8bc"
      },
      "outputs": [],
      "source": [
        "def mettre_a_jour_les_coefficients(a,b,data,name_feature,name_target,alpha):\n",
        "  m = len(data)\n",
        "  dj_da = 0\n",
        "  dj_db = 0\n",
        "  for i in range(len(data)):\n",
        "    x = data[name_feature][i]\n",
        "    y = data[name_target][i]\n",
        "    dj_da += ((a * x + b - y) * x)\n",
        "    dj_db += (a * x + b - y)\n",
        "  dj_da = 1/m * dj_da\n",
        "  dj_da = 1/m * dj_db\n",
        "  a = a - alpha * dj_da\n",
        "  b = b - alpha * dj_db\n",
        "  return a,b"
      ]
    },
    {
      "cell_type": "code",
      "execution_count": 31,
      "metadata": {
        "id": "kUmAhJWPTaPn"
      },
      "outputs": [],
      "source": [
        "def entrainer_le_modele(data,name_feature,name_target,alpha,nb_iterations):\n",
        "  a,b = initialiser_les_parametres()\n",
        "  info = {}\n",
        "  for i in range(nb_iterations):\n",
        "    a,b = mettre_a_jour_les_coefficients(a=a,\n",
        "                                  b=b,\n",
        "                                  data=data,\n",
        "                                  name_feature=name_feature,\n",
        "                                  name_target=name_target,\n",
        "                                  alpha=alpha)\n",
        "\n",
        "  info[f'Prédiction {name_target}'] = calculer_la_prediction(data=data,\n",
        "                                              name_feature=name_feature,\n",
        "                                              a=a,\n",
        "                                              b=b)\n",
        "  info['MSE'] = calculer_la_mse(a=a,\n",
        "                                b=b,\n",
        "                                data=data,\n",
        "                                name_feature=name_feature,\n",
        "                                name_target=name_target)\n",
        "\n",
        "  mse = info['MSE']\n",
        "\n",
        "  info['RMSE'] = calculaler_la_rmse(mse)\n",
        "\n",
        "  info['a'] = a\n",
        "\n",
        "  info['b'] = b\n",
        "\n",
        "  afficher_le_modele(data=data,\n",
        "                     name_feature=name_feature,\n",
        "                     name_target=name_target,\n",
        "                     a=a,\n",
        "                    b=b)\n",
        "\n",
        "  return info\n"
      ]
    },
    {
      "cell_type": "code",
      "execution_count": 32,
      "metadata": {
        "id": "oorjcSS7WdfJ"
      },
      "outputs": [],
      "source": [
        "def stocker_les_bon_coefficients(a, b, rmse):\n",
        "    # Charger le DataFrame depuis le fichier CSV s'il existe\n",
        "    try:\n",
        "        coefficients_df = pd.read_csv('/content/coefficient.csv')\n",
        "    except FileNotFoundError:\n",
        "        coefficients_df = pd.DataFrame(columns=['a', 'b', 'rmse à l\\'entrainement'])\n",
        "\n",
        "    # Si le DataFrame est vide ou la nouvelle RMSE est inférieure, mettre à jour et sauvegarder\n",
        "    if coefficients_df.empty or rmse < coefficients_df['rmse à l\\'entrainement'].iloc[0]:\n",
        "        coefficients_df = pd.DataFrame({'a': [a], 'b': [b], 'rmse à l\\'entrainement': [rmse]})\n",
        "        coefficients_df.to_csv(path_or_buf='data/coefficient.csv', index=False)\n",
        "\n",
        "    return coefficients_df\n"
      ]
    },
    {
      "cell_type": "code",
      "execution_count": 33,
      "metadata": {
        "id": "_hgAs6LTU33B"
      },
      "outputs": [],
      "source": [
        "def tester_le_modele(data,name_feature,name_target,a,b):\n",
        "\n",
        " info = {}\n",
        "\n",
        " info[f'Prédiction {name_target}'] = calculer_la_prediction(data=data,\n",
        "                                              name_feature=name_feature,\n",
        "                                              a=a,\n",
        "                                              b=b)\n",
        "\n",
        " info['MSE'] = calculer_la_mse(a=a,\n",
        "                                b=b,\n",
        "                                data=data,\n",
        "                                name_feature=name_feature,\n",
        "                                name_target=name_target)\n",
        "\n",
        " mse = info['MSE']\n",
        "\n",
        " info['RMSE'] = calculaler_la_rmse(mse)\n",
        "\n",
        "\n",
        " afficher_le_modele(data=data,\n",
        "                     name_feature=name_feature,\n",
        "                     name_target=name_target,\n",
        "                     a=a,\n",
        "                    b=b)\n",
        "\n",
        " return info\n"
      ]
    },
    {
      "cell_type": "code",
      "execution_count": 34,
      "metadata": {
        "id": "BF5p9pp3-J55"
      },
      "outputs": [],
      "source": [
        "name_feature = 'Distance (km)'\n",
        "name_target = 'TGV (1 pers.) - Empreinte CO2e (kgCO2e/voyageur)'"
      ]
    },
    {
      "cell_type": "code",
      "execution_count": 35,
      "metadata": {
        "colab": {
          "base_uri": "https://localhost:8080/",
          "height": 449
        },
        "id": "zwGMKlmWWFBl",
        "outputId": "0b6ea5fd-49bb-4a80-9189-c9179dab020b"
      },
      "outputs": [
        {
          "data": {
            "image/png": "[encoded data removed]",
            "text/plain": [
              "<Figure size 640x480 with 1 Axes>"
            ]
          },
          "metadata": {},
          "output_type": "display_data"
        }
      ],
      "source": [
        "info = entrainer_le_modele(data=train,\n",
        "     name_feature=name_feature,\n",
        "     name_target=name_target,\n",
        "     alpha=0.0012,\n",
        "     nb_iterations=1000)"
      ]
    },
    {
      "cell_type": "code",
      "execution_count": 36,
      "metadata": {
        "colab": {
          "base_uri": "https://localhost:8080/",
          "height": 423
        },
        "id": "D3qlltyRT39R",
        "outputId": "4a8927e5-0fbb-4ddf-84fd-dbec32d06eaa"
      },
      "outputs": [
        {
          "data": {
            "text/html": [
              "<div>\n",
              "<style scoped>\n",
              "    .dataframe tbody tr th:only-of-type {\n",
              "        vertical-align: middle;\n",
              "    }\n",
              "\n",
              "    .dataframe tbody tr th {\n",
              "        vertical-align: top;\n",
              "    }\n",
              "\n",
              "    .dataframe thead th {\n",
              "        text-align: right;\n",
              "    }\n",
              "</style>\n",
              "<table border=\"1\" class=\"dataframe\">\n",
              "  <thead>\n",
              "    <tr style=\"text-align: right;\">\n",
              "      <th></th>\n",
              "      <th>Prédiction</th>\n",
              "    </tr>\n",
              "  </thead>\n",
              "  <tbody>\n",
              "    <tr>\n",
              "      <th>0</th>\n",
              "      <td>0.941049</td>\n",
              "    </tr>\n",
              "    <tr>\n",
              "      <th>1</th>\n",
              "      <td>2.789661</td>\n",
              "    </tr>\n",
              "    <tr>\n",
              "      <th>2</th>\n",
              "      <td>1.592966</td>\n",
              "    </tr>\n",
              "    <tr>\n",
              "      <th>3</th>\n",
              "      <td>0.870222</td>\n",
              "    </tr>\n",
              "    <tr>\n",
              "      <th>4</th>\n",
              "      <td>0.886690</td>\n",
              "    </tr>\n",
              "    <tr>\n",
              "      <th>...</th>\n",
              "      <td>...</td>\n",
              "    </tr>\n",
              "    <tr>\n",
              "      <th>84</th>\n",
              "      <td>1.630132</td>\n",
              "    </tr>\n",
              "    <tr>\n",
              "      <th>85</th>\n",
              "      <td>1.597635</td>\n",
              "    </tr>\n",
              "    <tr>\n",
              "      <th>86</th>\n",
              "      <td>1.435677</td>\n",
              "    </tr>\n",
              "    <tr>\n",
              "      <th>87</th>\n",
              "      <td>2.233308</td>\n",
              "    </tr>\n",
              "    <tr>\n",
              "      <th>88</th>\n",
              "      <td>1.923134</td>\n",
              "    </tr>\n",
              "  </tbody>\n",
              "</table>\n",
              "<p>89 rows × 1 columns</p>\n",
              "</div>"
            ],
            "text/plain": [
              "    Prédiction\n",
              "0     0.941049\n",
              "1     2.789661\n",
              "2     1.592966\n",
              "3     0.870222\n",
              "4     0.886690\n",
              "..         ...\n",
              "84    1.630132\n",
              "85    1.597635\n",
              "86    1.435677\n",
              "87    2.233308\n",
              "88    1.923134\n",
              "\n",
              "[89 rows x 1 columns]"
            ]
          },
          "execution_count": 36,
          "metadata": {},
          "output_type": "execute_result"
        }
      ],
      "source": [
        "info['Prédiction TGV (1 pers.) - Empreinte CO2e (kgCO2e/voyageur)']\n"
      ]
    },
    {
      "cell_type": "code",
      "execution_count": 37,
      "metadata": {
        "colab": {
          "base_uri": "https://localhost:8080/",
          "height": 35
        },
        "id": "jpIGWj-RUC0m",
        "outputId": "83520729-0c17-4b46-8410-6af5f13a9dbf"
      },
      "outputs": [
        {
          "data": {
            "text/plain": [
              "'mse : 0.01651027708396183, rmse : 0.1284923230545772'"
            ]
          },
          "execution_count": 37,
          "metadata": {},
          "output_type": "execute_result"
        }
      ],
      "source": [
        "f\"mse : {info['MSE']}, rmse : {info['RMSE']}\""
      ]
    },
    {
      "cell_type": "code",
      "execution_count": 38,
      "metadata": {
        "id": "u2hWSQTIY6Yt"
      },
      "outputs": [],
      "source": [
        "coefficients = stocker_les_bon_coefficients(a=info['a'],b=info['b'],rmse=info['RMSE'])"
      ]
    },
    {
      "cell_type": "code",
      "execution_count": 39,
      "metadata": {
        "colab": {
          "base_uri": "https://localhost:8080/",
          "height": 80
        },
        "id": "GnWosXHjaCqW",
        "outputId": "64697984-c4c1-4152-9398-ba8fb006b71d"
      },
      "outputs": [
        {
          "data": {
            "text/html": [
              "<div>\n",
              "<style scoped>\n",
              "    .dataframe tbody tr th:only-of-type {\n",
              "        vertical-align: middle;\n",
              "    }\n",
              "\n",
              "    .dataframe tbody tr th {\n",
              "        vertical-align: top;\n",
              "    }\n",
              "\n",
              "    .dataframe thead th {\n",
              "        text-align: right;\n",
              "    }\n",
              "</style>\n",
              "<table border=\"1\" class=\"dataframe\">\n",
              "  <thead>\n",
              "    <tr style=\"text-align: right;\">\n",
              "      <th></th>\n",
              "      <th>a</th>\n",
              "      <th>b</th>\n",
              "      <th>rmse à l'entrainement</th>\n",
              "    </tr>\n",
              "  </thead>\n",
              "  <tbody>\n",
              "    <tr>\n",
              "      <th>0</th>\n",
              "      <td>0.002335</td>\n",
              "      <td>0.207778</td>\n",
              "      <td>0.128492</td>\n",
              "    </tr>\n",
              "  </tbody>\n",
              "</table>\n",
              "</div>"
            ],
            "text/plain": [
              "          a         b  rmse à l'entrainement\n",
              "0  0.002335  0.207778               0.128492"
            ]
          },
          "execution_count": 39,
          "metadata": {},
          "output_type": "execute_result"
        }
      ],
      "source": [
        "coefficients"
      ]
    },
    {
      "cell_type": "code",
      "execution_count": 40,
      "metadata": {
        "colab": {
          "base_uri": "https://localhost:8080/",
          "height": 449
        },
        "id": "lmU9e1JxoTBz",
        "outputId": "935a24de-151e-41d4-a0cd-89fc88086071"
      },
      "outputs": [
        {
          "data": {
            "image/png": "[encoded data removed]",
            "text/plain": [
              "<Figure size 640x480 with 1 Axes>"
            ]
          },
          "metadata": {},
          "output_type": "display_data"
        }
      ],
      "source": [
        "info_test = tester_le_modele(data=test,\n",
        "                 name_feature=name_feature,\n",
        "                 name_target=name_target,\n",
        "                 a=float(coefficients['a'].iloc[0]),\n",
        "                 b=float(coefficients['b'].iloc[0]))"
      ]
    },
    {
      "cell_type": "code",
      "execution_count": 41,
      "metadata": {
        "colab": {
          "base_uri": "https://localhost:8080/",
          "height": 739
        },
        "id": "XbQVUPEPpvdU",
        "outputId": "92e2a0a9-5bb0-4713-b5a1-361579112c41"
      },
      "outputs": [
        {
          "data": {
            "text/html": [
              "<div>\n",
              "<style scoped>\n",
              "    .dataframe tbody tr th:only-of-type {\n",
              "        vertical-align: middle;\n",
              "    }\n",
              "\n",
              "    .dataframe tbody tr th {\n",
              "        vertical-align: top;\n",
              "    }\n",
              "\n",
              "    .dataframe thead th {\n",
              "        text-align: right;\n",
              "    }\n",
              "</style>\n",
              "<table border=\"1\" class=\"dataframe\">\n",
              "  <thead>\n",
              "    <tr style=\"text-align: right;\">\n",
              "      <th></th>\n",
              "      <th>Prédiction</th>\n",
              "    </tr>\n",
              "  </thead>\n",
              "  <tbody>\n",
              "    <tr>\n",
              "      <th>0</th>\n",
              "      <td>1.365757</td>\n",
              "    </tr>\n",
              "    <tr>\n",
              "      <th>1</th>\n",
              "      <td>1.571602</td>\n",
              "    </tr>\n",
              "    <tr>\n",
              "      <th>2</th>\n",
              "      <td>1.210474</td>\n",
              "    </tr>\n",
              "    <tr>\n",
              "      <th>3</th>\n",
              "      <td>1.461755</td>\n",
              "    </tr>\n",
              "    <tr>\n",
              "      <th>4</th>\n",
              "      <td>1.303701</td>\n",
              "    </tr>\n",
              "    <tr>\n",
              "      <th>5</th>\n",
              "      <td>1.516625</td>\n",
              "    </tr>\n",
              "    <tr>\n",
              "      <th>6</th>\n",
              "      <td>1.829009</td>\n",
              "    </tr>\n",
              "    <tr>\n",
              "      <th>7</th>\n",
              "      <td>1.350684</td>\n",
              "    </tr>\n",
              "    <tr>\n",
              "      <th>8</th>\n",
              "      <td>2.084048</td>\n",
              "    </tr>\n",
              "    <tr>\n",
              "      <th>9</th>\n",
              "      <td>0.678613</td>\n",
              "    </tr>\n",
              "    <tr>\n",
              "      <th>10</th>\n",
              "      <td>1.750987</td>\n",
              "    </tr>\n",
              "    <tr>\n",
              "      <th>11</th>\n",
              "      <td>2.309686</td>\n",
              "    </tr>\n",
              "    <tr>\n",
              "      <th>12</th>\n",
              "      <td>2.329100</td>\n",
              "    </tr>\n",
              "    <tr>\n",
              "      <th>13</th>\n",
              "      <td>2.033614</td>\n",
              "    </tr>\n",
              "    <tr>\n",
              "      <th>14</th>\n",
              "      <td>1.736452</td>\n",
              "    </tr>\n",
              "    <tr>\n",
              "      <th>15</th>\n",
              "      <td>1.009868</td>\n",
              "    </tr>\n",
              "    <tr>\n",
              "      <th>16</th>\n",
              "      <td>1.438395</td>\n",
              "    </tr>\n",
              "    <tr>\n",
              "      <th>17</th>\n",
              "      <td>1.627996</td>\n",
              "    </tr>\n",
              "    <tr>\n",
              "      <th>18</th>\n",
              "      <td>1.714418</td>\n",
              "    </tr>\n",
              "    <tr>\n",
              "      <th>19</th>\n",
              "      <td>1.484582</td>\n",
              "    </tr>\n",
              "    <tr>\n",
              "      <th>20</th>\n",
              "      <td>2.092196</td>\n",
              "    </tr>\n",
              "    <tr>\n",
              "      <th>21</th>\n",
              "      <td>1.449664</td>\n",
              "    </tr>\n",
              "  </tbody>\n",
              "</table>\n",
              "</div>"
            ],
            "text/plain": [
              "    Prédiction\n",
              "0     1.365757\n",
              "1     1.571602\n",
              "2     1.210474\n",
              "3     1.461755\n",
              "4     1.303701\n",
              "5     1.516625\n",
              "6     1.829009\n",
              "7     1.350684\n",
              "8     2.084048\n",
              "9     0.678613\n",
              "10    1.750987\n",
              "11    2.309686\n",
              "12    2.329100\n",
              "13    2.033614\n",
              "14    1.736452\n",
              "15    1.009868\n",
              "16    1.438395\n",
              "17    1.627996\n",
              "18    1.714418\n",
              "19    1.484582\n",
              "20    2.092196\n",
              "21    1.449664"
            ]
          },
          "execution_count": 41,
          "metadata": {},
          "output_type": "execute_result"
        }
      ],
      "source": [
        "info_test['Prédiction TGV (1 pers.) - Empreinte CO2e (kgCO2e/voyageur)']"
      ]
    },
    {
      "cell_type": "code",
      "execution_count": 42,
      "metadata": {
        "colab": {
          "base_uri": "https://localhost:8080/"
        },
        "id": "GP-E1KQ3p3ms",
        "outputId": "58261dd7-05b0-4e30-ccf9-1bfa347dabe7"
      },
      "outputs": [
        {
          "data": {
            "text/plain": [
              "0.00869915562675275"
            ]
          },
          "execution_count": 42,
          "metadata": {},
          "output_type": "execute_result"
        }
      ],
      "source": [
        "info_test['MSE']"
      ]
    },
    {
      "cell_type": "code",
      "execution_count": 43,
      "metadata": {
        "colab": {
          "base_uri": "https://localhost:8080/"
        },
        "id": "DV0v_Yinvoin",
        "outputId": "5e8f4de6-76a8-443f-b21d-486002f164a5"
      },
      "outputs": [
        {
          "data": {
            "text/plain": [
              "0.09326926410534582"
            ]
          },
          "execution_count": 43,
          "metadata": {},
          "output_type": "execute_result"
        }
      ],
      "source": [
        "info_test['RMSE']"
      ]
    }
  ],
  "metadata": {
    "colab": {
      "provenance": []
    },
    "kernelspec": {
      "display_name": "Python 3",
      "name": "python3"
    },
    "language_info": {
      "codemirror_mode": {
        "name": "ipython",
        "version": 3
      },
      "file_extension": ".py",
      "mimetype": "text/x-python",
      "name": "python",
      "nbconvert_exporter": "python",
      "pygments_lexer": "ipython3",
      "version": "3.12.1"
    }
  },
  "nbformat": 4,
  "nbformat_minor": 0
}
